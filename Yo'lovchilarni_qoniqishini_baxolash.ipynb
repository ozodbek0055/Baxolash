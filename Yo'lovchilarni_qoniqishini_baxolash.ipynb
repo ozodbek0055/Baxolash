{
  "nbformat": 4,
  "nbformat_minor": 0,
  "metadata": {
    "colab": {
      "private_outputs": true,
      "provenance": [],
      "gpuType": "T4"
    },
    "kernelspec": {
      "name": "python3",
      "display_name": "Python 3"
    },
    "language_info": {
      "name": "python"
    },
    "accelerator": "GPU",
    "gpuClass": "standard"
  },
  "cells": [
    {
      "cell_type": "code",
      "execution_count": null,
      "metadata": {
        "id": "GE3IMvq-lvWJ"
      },
      "outputs": [],
      "source": [
        "import pandas as pd\n",
        "import numpy as np\n",
        "import seaborn as sns\n",
        "import matplotlib.pyplot as plt\n",
        "\n",
        "from sklearn.preprocessing import StandardScaler, OrdinalEncoder\n",
        "from sklearn.model_selection import train_test_split\n",
        "\n",
        "from sklearn.linear_model import LogisticRegression\n",
        "from sklearn.tree import DecisionTreeClassifier, plot_tree\n",
        "from sklearn.svm import SVC\n",
        "from sklearn.ensemble import RandomForestClassifier\n",
        "from xgboost import XGBClassifier\n",
        "\n",
        "from sklearn.impute import SimpleImputer\n",
        "\n",
        "from sklearn.pipeline import Pipeline\n",
        "from sklearn.compose import ColumnTransformer\n",
        "from sklearn import metrics\n",
        "\n",
        "df_train = pd.read_csv(\"/content/train_dataset.csv\", index_col=0)\n",
        "df_test = pd.read_csv(\"/content/test_dataset.csv\", index_col=0)\n",
        "df_train"
      ]
    },
    {
      "cell_type": "code",
      "source": [
        "df_test"
      ],
      "metadata": {
        "id": "EUV3TssonqiZ"
      },
      "execution_count": null,
      "outputs": []
    },
    {
      "cell_type": "code",
      "source": [
        "df_train"
      ],
      "metadata": {
        "id": "yo1uAwBWnuGt"
      },
      "execution_count": null,
      "outputs": []
    },
    {
      "cell_type": "code",
      "source": [
        "df_train.info()"
      ],
      "metadata": {
        "id": "ZpeuuH50oBwN"
      },
      "execution_count": null,
      "outputs": []
    },
    {
      "cell_type": "code",
      "source": [
        "df_train.isna().sum()"
      ],
      "metadata": {
        "id": "TR6NGMb3oD_M"
      },
      "execution_count": null,
      "outputs": []
    },
    {
      "cell_type": "code",
      "source": [],
      "metadata": {
        "id": "VY5IX7BWoHay"
      },
      "execution_count": null,
      "outputs": []
    },
    {
      "cell_type": "code",
      "source": [
        "df_train.isna().sum()"
      ],
      "metadata": {
        "id": "eiWxxtIzoQE5"
      },
      "execution_count": null,
      "outputs": []
    },
    {
      "cell_type": "code",
      "source": [
        "df_train.shape"
      ],
      "metadata": {
        "id": "3xswbEiroT-3"
      },
      "execution_count": null,
      "outputs": []
    },
    {
      "cell_type": "code",
      "source": [
        "df_train.describe()"
      ],
      "metadata": {
        "id": "qMVIl7kWoWyg"
      },
      "execution_count": null,
      "outputs": []
    },
    {
      "cell_type": "code",
      "source": [],
      "metadata": {
        "id": "yOINMNg-oZ8I"
      },
      "execution_count": null,
      "outputs": []
    },
    {
      "cell_type": "code",
      "source": [
        "df_train.corrwith(df_train[\"satisfaction\"]).abs().sort_values(ascending=False)"
      ],
      "metadata": {
        "id": "8tpXNhkGofS3"
      },
      "execution_count": null,
      "outputs": []
    },
    {
      "cell_type": "code",
      "source": [
        "df_train"
      ],
      "metadata": {
        "id": "ZfMk36MIpBwX"
      },
      "execution_count": null,
      "outputs": []
    },
    {
      "cell_type": "code",
      "source": [
        "X = df_train.drop('satisfaction', axis=1)\n",
        "y = df_train['satisfaction']\n"
      ],
      "metadata": {
        "id": "Z6UfFkhbpNv7"
      },
      "execution_count": null,
      "outputs": []
    },
    {
      "cell_type": "code",
      "source": [
        "num_attribs = ['Age', 'Flight Distance', 'Inflight wifi service', 'Departure/Arrival time convenient', 'Ease of Online booking',\n",
        "               'Gate location', 'Food and drink', 'Online boarding', 'Seat comfort', 'Inflight entertainment', 'On-board service',\n",
        "               'Leg room service', 'Baggage handling', 'Checkin service', 'Inflight service', 'Cleanliness', 'Departure Delay in Minutes',\n",
        "               'Arrival Delay in Minutes']\n",
        "cat_attribs = ['Gender', 'Customer Type', 'Type of Travel', 'Class']\n",
        "\n",
        "num_pipeline = Pipeline([\n",
        "    ('impute', SimpleImputer(strategy='median')),\n",
        "    ('std_scaler', StandardScaler())\n",
        "])\n",
        "\n",
        "full_pipeline = ColumnTransformer([\n",
        "    ('num', num_pipeline, num_attribs),\n",
        "    ('cat', OrdinalEncoder(), cat_attribs)\n",
        "])\n",
        "\n",
        "X = full_pipeline.fit_transform(X)\n",
        "\n"
      ],
      "metadata": {
        "id": "iJnx9ubupUtM"
      },
      "execution_count": null,
      "outputs": []
    },
    {
      "cell_type": "code",
      "source": [
        "X_train, X_test, y_train, y_test = train_test_split(X,y, test_size=0.3, random_state=55)\n"
      ],
      "metadata": {
        "id": "ihZVHd5MpwAH"
      },
      "execution_count": null,
      "outputs": []
    },
    {
      "cell_type": "code",
      "source": [
        "#KNN \n",
        "from sklearn.neighbors import KNeighborsClassifier\n",
        "\n",
        "knn = KNeighborsClassifier(5)\n",
        "\n",
        "knn.fit(X_train, y_train)\n",
        "\n",
        "y_predict = knn.predict(X_test)"
      ],
      "metadata": {
        "id": "MGgqTL8dp-2h"
      },
      "execution_count": null,
      "outputs": []
    },
    {
      "cell_type": "code",
      "source": [
        "from sklearn.metrics import accuracy_score\n",
        "from sklearn.metrics import classification_report\n",
        "\n",
        "print(classification_report(y_test, y_predict))\n",
        "print(f\"Accuracy: {accuracy_score(y_test, y_predict)}\")\n"
      ],
      "metadata": {
        "id": "81y7hTaGqeT-"
      },
      "execution_count": null,
      "outputs": []
    },
    {
      "cell_type": "code",
      "source": [
        "df_test = full_pipeline.fit_transform(df_test)"
      ],
      "metadata": {
        "id": "d-D79pt7sJlq"
      },
      "execution_count": null,
      "outputs": []
    },
    {
      "cell_type": "code",
      "source": [
        "knn_model = KNeighborsClassifier(8)\n",
        "\n",
        "knn_model.fit(X_train, y_train)\n",
        "\n",
        "y_predict = knn_model.predict(df_test)\n",
        "y_predict"
      ],
      "metadata": {
        "id": "Y-scRjkZqvGd"
      },
      "execution_count": null,
      "outputs": []
    },
    {
      "cell_type": "code",
      "source": [
        "sample = pd.read_csv(\"/content/sample_submission.csv\", index_col=0)\n",
        "sample.head()"
      ],
      "metadata": {
        "id": "y9nH8TJgsRwj"
      },
      "execution_count": null,
      "outputs": []
    },
    {
      "cell_type": "code",
      "source": [
        "sample['satisfaction'] = y_predict\n",
        "submission = sample\n",
        "submission.to_csv('submission.csv')\n",
        "submission.head()"
      ],
      "metadata": {
        "id": "dC_VKbvqsxdY"
      },
      "execution_count": null,
      "outputs": []
    },
    {
      "cell_type": "code",
      "source": [],
      "metadata": {
        "id": "YLa-IrrItBck"
      },
      "execution_count": null,
      "outputs": []
    }
  ]
}